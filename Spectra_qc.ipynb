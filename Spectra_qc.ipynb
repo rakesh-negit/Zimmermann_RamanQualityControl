{
 "cells": [
  {
   "cell_type": "code",
   "execution_count": 37,
   "id": "sonic-copyright",
   "metadata": {},
   "outputs": [],
   "source": [
    "import os\n",
    "import math\n",
    "import numpy as np\n",
    "import scipy.signal as sig\n",
    "import matplotlib.pyplot as plt\n",
    "import matplotlib.colors as colors\n",
    "import matplotlib.ticker as ticker\n",
    "from matplotlib import cm\n",
    "from scipy import stats\n",
    "from scipy import optimize\n",
    "from scipy import integrate\n",
    "import scipy.linalg as la\n",
    "import numpy.polynomial.polynomial as poly\n",
    "from bisect import bisect_left\n",
    "import pprint"
   ]
  },
  {
   "cell_type": "code",
   "execution_count": 38,
   "id": "structured-premises",
   "metadata": {},
   "outputs": [],
   "source": [
    "def import_file(path, limit_low=None, limit_high=None):\n",
    "\n",
    "    spectrum = np.genfromtxt(path, delimiter=\",\")\n",
    "    spectrum = np.transpose(spectrum)\n",
    "    wavenumbers = spectrum[0]\n",
    "    intensities = spectrum[1]\n",
    "\n",
    "    if limit_low is not None:\n",
    "        limit_low_index = list(wavenumbers).index(limit_low)\n",
    "    else:\n",
    "        limit_low_index = 0\n",
    "        limit_low = wavenumbers[0]\n",
    "\n",
    "    if limit_high is not None:\n",
    "        limit_high_index = list(wavenumbers).index(limit_high)\n",
    "    else:\n",
    "        limit_high_index = len(wavenumbers)\n",
    "        limit_high = wavenumbers[-1]\n",
    "\n",
    "    wavenumbers = wavenumbers[limit_low_index:limit_high_index]\n",
    "    intensities = intensities[limit_low_index:limit_high_index]\n",
    "    return wavenumbers, intensities\n",
    "\n",
    "def import_directory(path, limit_low=None, limit_high=None):\n",
    "    if not path.endswith(\"/\"):\n",
    "        path = path + \"/\"\n",
    "    \n",
    "    files = os.listdir(path)\n",
    "    files = [file for file in files if file.lower().endswith(\".txt\")]\n",
    "    \n",
    "    #files = sorted(files, key=lambda s: int(s[s.find(\"(\")+1:s.find(\")\")]))\n",
    "    \n",
    "    \n",
    "    wavenumbers = []\n",
    "    intensities = []\n",
    "        \n",
    "    for file in files:\n",
    "        wns, ints = import_file(path + file, limit_low, limit_high)\n",
    "        wavenumbers.append(wns)\n",
    "        intensities.append(ints)\n",
    "    return np.array(wavenumbers), np.array(intensities), files"
   ]
  },
  {
   "cell_type": "code",
   "execution_count": 39,
   "id": "previous-pharmacy",
   "metadata": {},
   "outputs": [],
   "source": [
    "wavenumbers, intensities, files = import_directory(r\"C:\\Users\\Daniel\\Desktop\\spectra_qc\\NPs\\Ag2_2_txt\")"
   ]
  },
  {
   "cell_type": "code",
   "execution_count": 40,
   "id": "focal-telescope",
   "metadata": {},
   "outputs": [],
   "source": [
    "##################################\n",
    "# Parameters for 4S Peak Filling #\n",
    "##################################\n",
    "\n",
    "penalty = 2         # Smoothing strength, starting value: 4\n",
    "half_width = 8      # Half width of suppression window, starting value: half width at half height of widest peak\n",
    "iterations = 5     # Number of iterations of the suppression cycle, starting value: 10\n",
    "buckets = 500       # Number of intervals the data is divided into, can also be an array of indices, starting value: 1/10 of the number of data points"
   ]
  },
  {
   "cell_type": "code",
   "execution_count": 41,
   "id": "reported-italy",
   "metadata": {},
   "outputs": [],
   "source": [
    "dims = np.shape(intensities)\n",
    "baseline = np.zeros(dims)\n",
    "corrected = np.zeros(dims)"
   ]
  },
  {
   "cell_type": "code",
   "execution_count": null,
   "id": "prescribed-crest",
   "metadata": {},
   "outputs": [],
   "source": []
  },
  {
   "cell_type": "code",
   "execution_count": 42,
   "id": "cardiovascular-cutting",
   "metadata": {},
   "outputs": [
    {
     "data": {
      "text/plain": [
       "array([[   0.,    0.,  100., ...,  100.,  100.,  100.],\n",
       "       [   0., -200., -400., ..., -400., -400., -200.],\n",
       "       [ 101.,  501.,  601., ...,  601.,  501.,  101.],\n",
       "       [-200., -400., -400., ..., -400., -200.,    0.],\n",
       "       [ 100.,  100.,  100., ...,  100.,    0.,    0.]])"
      ]
     },
     "execution_count": 42,
     "metadata": {},
     "output_type": "execute_result"
    }
   ],
   "source": [
    "#############\n",
    "# Smoothing #\n",
    "#############\n",
    "\n",
    "diag = np.zeros((5,5))\n",
    "np.fill_diagonal(diag, 1)\n",
    "middle = np.matmul(np.diff(diag, n=2, axis=0).T, np.diff(diag, n=2, axis=0))\n",
    "zeros = np.zeros((2,5))\n",
    "\n",
    "to_band = np.vstack((zeros, middle, zeros))\n",
    "the_band = np.diag(to_band)\n",
    "\n",
    "for i in range(1, 5):\n",
    "    the_band = np.vstack((the_band, np.diag(to_band, -i)))\n",
    "    \n",
    "indices = [0,1] + [2] * (dims[1]-4) + [3,4]\n",
    "dd = the_band[:, indices] * (10**penalty)\n",
    "dd[2,] = dd[2,] + 1\n",
    "\n",
    "ints_original = intensities[:,:]\n",
    "intensities = la.solve_banded((2,2), dd, intensities.T).T\n",
    "dd"
   ]
  },
  {
   "cell_type": "code",
   "execution_count": 43,
   "id": "sealed-commodity",
   "metadata": {},
   "outputs": [
    {
     "data": {
      "text/plain": [
       "(280.0, 1740.0)"
      ]
     },
     "execution_count": 43,
     "metadata": {},
     "output_type": "execute_result"
    }
   ],
   "source": [
    "fig, ax = plt.subplots()\n",
    "ax.plot(wavenumbers[0], ints_original[0], linewidth=1)\n",
    "ax.plot(wavenumbers[0], intensities[0], linewidth=1)\n",
    "ax.set_xlim((wavenumbers[0,0], wavenumbers[0,-1]))"
   ]
  },
  {
   "cell_type": "code",
   "execution_count": 44,
   "id": "distant-romance",
   "metadata": {},
   "outputs": [
    {
     "data": {
      "text/plain": [
       "array([8, 5, 3, 2, 1])"
      ]
     },
     "execution_count": 44,
     "metadata": {},
     "output_type": "execute_result"
    }
   ],
   "source": [
    "if iterations != 1:\n",
    "    d1 = math.log10(half_width)\n",
    "    d2 = 0\n",
    "\n",
    "    tmp = np.array(range(iterations-1)) * (d2 - d1) / (iterations - 1) + d1\n",
    "    tmp = np.append(tmp, d2)\n",
    "    w = np.ceil(10**tmp).astype(int)\n",
    "else:\n",
    "    w = np.array((half_width))\n",
    "\n",
    "w"
   ]
  },
  {
   "cell_type": "code",
   "execution_count": 45,
   "id": "lucky-thirty",
   "metadata": {},
   "outputs": [],
   "source": [
    "if isinstance(buckets, int):\n",
    "    lims = np.linspace(0, dims[1]-1, buckets+1, dtype=int)\n",
    "else:\n",
    "    lims = buckets\n",
    "    buckets = len(lims)-1\n",
    "    \n",
    "mids = np.rint(np.convolve(lims, np.ones(2), 'valid') / 2).astype(int)\n",
    "mids[0] = 0\n",
    "mids[-1] = dims[1]-1"
   ]
  },
  {
   "cell_type": "code",
   "execution_count": 46,
   "id": "peripheral-terrace",
   "metadata": {},
   "outputs": [
    {
     "name": "stdout",
     "output_type": "stream",
     "text": [
      "Using matplotlib backend: Qt5Agg\n"
     ]
    }
   ],
   "source": [
    "%matplotlib\n",
    "for s in range(dims[0]):\n",
    "    \n",
    "    ###############\n",
    "    # Subsampling #\n",
    "    ###############\n",
    "    \n",
    "    xx = np.zeros(buckets)\n",
    "    for i in range(buckets):\n",
    "        xx[i] = np.min(intensities[s, lims[i]:lims[i+1]])\n",
    "        \n",
    "    ###############\n",
    "    # Suppression #\n",
    "    ###############\n",
    "    \n",
    "    if s == 0:\n",
    "        fig, ax = plt.subplots()\n",
    "        ax.plot(wavenumbers[0], ints_original[0])\n",
    "        ax.set_xlim((wavenumbers[0,0], wavenumbers[0,-1]))\n",
    "        ax.invert_xaxis()\n",
    "        ax.set_xlabel(\"Wavenumber [cm^-1]\")\n",
    "        ax.set_ylabel(\"Intensity\")\n",
    "        \n",
    "    \n",
    "    for i in range(iterations):\n",
    "        w0 = w[i]\n",
    "        \n",
    "        for j in range(1, buckets):\n",
    "            v = min(j, w0, buckets-j)\n",
    "            a = np.mean(xx[j-v:j+v+1])\n",
    "            xx[j] = min(a, xx[j])\n",
    "            \n",
    "        if s == 0:\n",
    "            ax.plot(wavenumbers[0, mids], xx, linewidth=0.5)\n",
    "            \n",
    "        for j in range(buckets-1, 0, -1):\n",
    "            v = min(j, w0, buckets-j)\n",
    "            a = np.mean(xx[j-v:j+v+1])\n",
    "            xx[j] = min(a, xx[j])\n",
    "        \n",
    "        if s == 0:\n",
    "            ax.plot(wavenumbers[0, mids], xx, linewidth=0.5)\n",
    "            \n",
    "    ##############\n",
    "    # Stretching #\n",
    "    ##############\n",
    "        \n",
    "    xxx = np.interp(range(dims[1]), mids, xx)\n",
    "    baseline[s] = xxx\n",
    "    corrected[s] = ints_original[s] - baseline[s]"
   ]
  },
  {
   "cell_type": "code",
   "execution_count": 120,
   "id": "educational-context",
   "metadata": {},
   "outputs": [],
   "source": [
    "corrected_sg2 = sig.savgol_filter(x=corrected,\n",
    "                                  window_length=35,\n",
    "                                  polyorder=3,\n",
    "                                  deriv=2)\n",
    "\n",
    "peaks = []\n",
    "peaks_height = []\n",
    "for i, row in enumerate(corrected_sg2):\n",
    "    threshold = 0.05\n",
    "#     print(i, threshold)\n",
    "    peaks_tmp = sig.argrelmin(row)[0]\n",
    "    peaks_tmp = [peak for peak in peaks_tmp if row[peak] < -threshold]\n",
    "    \n",
    "    peak_condensing = []\n",
    "    peaks_tmp2 = []\n",
    "    for j in range(len(row)):\n",
    "        if j in peaks_tmp:\n",
    "            peak_condensing.append(j)\n",
    "        if row[j] > 0 and len(peak_condensing) > 0:\n",
    "            peaks_tmp2.append(int(np.mean(peak_condensing)))\n",
    "            peak_condensing = []\n",
    "    if len(peak_condensing) > 0:\n",
    "        peaks_tmp2.append(int(np.mean(peak_condensing)))\n",
    "    \n",
    "    heights = [corrected[i, k] for k in peaks_tmp2]\n",
    "    \n",
    "    peaks.append(peaks_tmp2)\n",
    "    peaks_height.append(heights)\n",
    "    "
   ]
  },
  {
   "cell_type": "code",
   "execution_count": 121,
   "id": "modern-knife",
   "metadata": {},
   "outputs": [],
   "source": [
    "n_peaks = [len(row) for row in peaks]\n",
    "total_areas = integrate.simpson(corrected, wavenumbers)\n",
    "avg_area = [area/n for n, area in zip(n_peaks, total_areas)]\n",
    "median_height = [np.median(row) for row in peaks_height]\n",
    "avg_height = [np.mean(row) for row in peaks_height]"
   ]
  },
  {
   "cell_type": "code",
   "execution_count": 106,
   "id": "sought-trash",
   "metadata": {},
   "outputs": [
    {
     "name": "stdout",
     "output_type": "stream",
     "text": [
      "index\tn_peaks\ttotal_area\tavg_area\tmedian_height\tavg_height\n",
      "0\t26\t2483418\t\t95516\t\t2079\t\t6108\n",
      "1\t28\t2928512\t\t104589\t\t1931\t\t6645\n",
      "2\t28\t1814029\t\t64786\t\t1195\t\t3937\n",
      "3\t30\t5481908\t\t182730\t\t3357\t\t11140\n",
      "4\t33\t8633255\t\t261613\t\t4115\t\t16434\n",
      "5\t28\t2890678\t\t103238\t\t1908\t\t6206\n",
      "6\t28\t1979159\t\t70684\t\t1371\t\t4168\n",
      "7\t23\t1379443\t\t59975\t\t1206\t\t3547\n",
      "8\t32\t18925387\t\t591418\t\t9430\t\t35648\n",
      "9\t29\t7421037\t\t255897\t\t5572\t\t16208\n",
      "10\t30\t6667822\t\t222260\t\t4978\t\t14311\n",
      "11\t33\t11871406\t\t359739\t\t5294\t\t21802\n",
      "12\t23\t1730280\t\t75229\t\t1385\t\t4600\n",
      "13\t33\t19407352\t\t588101\t\t9336\t\t36130\n",
      "14\t28\t3052758\t\t109027\t\t1858\t\t6167\n",
      "15\t15\t1301419\t\t86761\t\t2890\t\t2938\n",
      "16\t18\t784317\t\t43573\t\t1347\t\t2295\n",
      "17\t33\t14824057\t\t449213\t\t6987\t\t28261\n",
      "18\t27\t1661033\t\t61519\t\t1088\t\t2907\n",
      "19\t13\t859730\t\t66133\t\t1807\t\t2118\n",
      "20\t10\t734961\t\t73496\t\t1501\t\t1767\n",
      "21\t33\t17594133\t\t533155\t\t7684\t\t32978\n",
      "22\t32\t9057632\t\t283051\t\t4582\t\t17099\n",
      "23\t32\t6308142\t\t197129\t\t3584\t\t12480\n",
      "24\t15\t472477\t\t31498\t\t1081\t\t1739\n",
      "25\t15\t647840\t\t43189\t\t2056\t\t2102\n",
      "26\t31\t16490076\t\t531937\t\t9754\t\t31831\n",
      "27\t32\t8767159\t\t273973\t\t4933\t\t16865\n",
      "28\t28\t4091897\t\t146139\t\t3087\t\t9223\n",
      "29\t31\t9844481\t\t317563\t\t6312\t\t19887\n",
      "30\t31\t7226655\t\t233117\t\t4741\t\t14258\n",
      "31\t30\t7081802\t\t236060\t\t4567\t\t14445\n",
      "32\t28\t3388773\t\t121027\t\t2384\t\t7492\n",
      "33\t18\t899419\t\t49967\t\t1161\t\t2945\n",
      "34\t28\t2933274\t\t104759\t\t2232\t\t6816\n",
      "35\t28\t3757268\t\t134188\t\t2571\t\t8233\n",
      "36\t23\t1539005\t\t66913\t\t1212\t\t4090\n",
      "37\t18\t813867\t\t45214\t\t1009\t\t2626\n",
      "38\t14\t445071\t\t31790\t\t1346\t\t1853\n",
      "39\t30\t6668014\t\t222267\t\t4135\t\t13544\n",
      "40\t32\t12980708\t\t405647\t\t7832\t\t26574\n",
      "41\t29\t6650111\t\t229314\t\t4585\t\t15005\n",
      "42\t20\t872699\t\t43634\t\t959\t\t2514\n",
      "43\t30\t8626725\t\t287557\t\t6053\t\t18658\n",
      "44\t20\t837658\t\t41882\t\t1050\t\t2619\n",
      "45\t30\t4991779\t\t166392\t\t3174\t\t10478\n",
      "46\t22\t1229767\t\t55898\t\t1092\t\t3308\n",
      "47\t29\t4301820\t\t148338\t\t2978\t\t8888\n",
      "48\t19\t764965\t\t40261\t\t984\t\t2481\n",
      "49\t19\t889037\t\t46791\t\t1236\t\t2723\n",
      "50\t20\t1592176\t\t79608\t\t1620\t\t3745\n",
      "51\t27\t3136620\t\t116171\t\t2061\t\t7079\n",
      "52\t24\t1757313\t\t73221\t\t1434\t\t4681\n",
      "53\t22\t1119269\t\t50875\t\t968\t\t3167\n",
      "54\t19\t723342\t\t38070\t\t758\t\t2356\n",
      "55\t29\t3378562\t\t116502\t\t2167\t\t7070\n",
      "56\t28\t4361497\t\t155767\t\t2931\t\t9536\n",
      "57\t31\t20469627\t\t660310\t\t12645\t\t40060\n",
      "58\t24\t1508095\t\t62837\t\t1206\t\t3835\n",
      "59\t28\t4933937\t\t176212\t\t3201\t\t10468\n",
      "60\t22\t1461064\t\t66412\t\t1396\t\t3877\n",
      "61\t23\t1908970\t\t82998\t\t1479\t\t4994\n",
      "62\t32\t9552522\t\t298516\t\t5273\t\t18400\n",
      "63\t26\t1844752\t\t70952\t\t1326\t\t4342\n"
     ]
    }
   ],
   "source": [
    "print(\"index\\tn_peaks\\ttotal_area\\tavg_area\\tmedian_height\\tavg_height\")\n",
    "for i in range(len(corrected)):\n",
    "    print(f\"{i}\\t{n_peaks[i]}\\t{int(total_areas[i])}\\t\\t{int(avg_area[i])}\\t\\t{int(median_height[i])}\\t\\t{int(avg_height[i])}\")"
   ]
  },
  {
   "cell_type": "code",
   "execution_count": 122,
   "id": "diverse-granny",
   "metadata": {},
   "outputs": [
    {
     "name": "stdout",
     "output_type": "stream",
     "text": [
      "Using matplotlib backend: Qt5Agg\n"
     ]
    },
    {
     "name": "stderr",
     "output_type": "stream",
     "text": [
      "<ipython-input-122-574e639a55a5>:5: RuntimeWarning: More than 20 figures have been opened. Figures created through the pyplot interface (`matplotlib.pyplot.figure`) are retained until explicitly closed and may consume too much memory. (To control this warning, see the rcParam `figure.max_open_warning`).\n",
      "  fig, ax = plt.subplots(2)\n"
     ]
    }
   ],
   "source": [
    "%matplotlib\n",
    "\n",
    "for i in range(len(corrected)):\n",
    "\n",
    "    fig, ax = plt.subplots(2)\n",
    "\n",
    "    ax[0].plot(wavenumbers[i,], corrected[i,], linewidth=1)\n",
    "    ax[0].set_xlim(wavenumbers[0,0], wavenumbers[0,-1])\n",
    "    ax[0].invert_xaxis()\n",
    "    ax[0].hlines(0, wavenumbers[0,0], wavenumbers[0,-1], color=\"black\", linewidth=0.5)\n",
    "    ax[0].vlines(wavenumbers[i,peaks[i]], 0, np.max(corrected[i])*1.1, color=\"red\", linewidth=0.5)\n",
    "    ax[0].grid()\n",
    "\n",
    "\n",
    "    ax[1].plot(wavenumbers[i,], corrected_sg2[i,], linewidth=1)\n",
    "    ax[1].set_xlim(wavenumbers[0,0], wavenumbers[0,-1])\n",
    "    ax[1].invert_xaxis()\n",
    "    ax[1].hlines(0, wavenumbers[0,0], wavenumbers[0,-1], color=\"black\", linewidth=0.5)\n",
    "    ax[1].grid()"
   ]
  },
  {
   "cell_type": "code",
   "execution_count": 52,
   "id": "peaceful-projector",
   "metadata": {},
   "outputs": [
    {
     "name": "stdout",
     "output_type": "stream",
     "text": [
      "Using matplotlib backend: Qt5Agg\n"
     ]
    },
    {
     "name": "stderr",
     "output_type": "stream",
     "text": [
      "<ipython-input-52-f0d41b101e83>:5: RuntimeWarning: More than 20 figures have been opened. Figures created through the pyplot interface (`matplotlib.pyplot.figure`) are retained until explicitly closed and may consume too much memory. (To control this warning, see the rcParam `figure.max_open_warning`).\n",
      "  fig, ax = plt.subplots(2)\n"
     ]
    }
   ],
   "source": [
    "%matplotlib\n",
    "\n",
    "for i in range(len(corrected)):\n",
    "\n",
    "    fig, ax = plt.subplots(2)\n",
    "    ax[0].plot(wavenumbers[i,], ints_original[i,], linewidth=1)\n",
    "    ax[0].plot(wavenumbers[i,], baseline[i,], linewidth=1)\n",
    "    ax[0].set_xlim((wavenumbers[0,0], wavenumbers[0,-1]))\n",
    "    ax[0].invert_xaxis()\n",
    "    ax[0].grid()\n",
    "\n",
    "\n",
    "    ax[1].plot(wavenumbers[i,], corrected[i,], linewidth=1)\n",
    "    ax[1].set_xlim(wavenumbers[0,0], wavenumbers[0,-1])\n",
    "    ax[1].hlines(0, wavenumbers[0,0], wavenumbers[0,-1], color=\"black\", linewidth=0.5)\n",
    "    ax[1].vlines(wavenumbers[i,peaks[i]], 0, np.max(corrected[i])*1.1, color=\"red\", linewidth=0.5)\n",
    "    ax[1].invert_xaxis()\n",
    "    ax[1].grid()\n",
    "    \n",
    "    fig.suptitle(files[i])"
   ]
  },
  {
   "cell_type": "code",
   "execution_count": 123,
   "id": "removed-avenue",
   "metadata": {},
   "outputs": [],
   "source": [
    "fig, ax = plt.subplots(figsize=(10,5.7))\n",
    "\n",
    "ax.plot(wavenumbers[1,], corrected[1,], linewidth=1)\n",
    "ax.set_xlim(wavenumbers[0,0], wavenumbers[0,-1])\n",
    "ax.invert_xaxis()\n",
    "ax.hlines(0, wavenumbers[0,0], wavenumbers[0,-1], color=\"black\", linewidth=0.5)\n",
    "for p in peaks[1]:\n",
    "    ax.vlines(wavenumbers[1,p], 0, corrected[1,p]+2000, color=\"red\", linewidth=0.5)\n",
    "ax.grid()\n",
    "ax.set_xlabel(r\"Raman Shift [$cm^{-1}$]\")\n",
    "ax.set_ylabel(\"Intensity [-]\")\n",
    "plt.tight_layout()"
   ]
  },
  {
   "cell_type": "code",
   "execution_count": 124,
   "id": "great-antique",
   "metadata": {},
   "outputs": [],
   "source": [
    "fig, ax = plt.subplots(figsize=(10,5.7))\n",
    "\n",
    "ax.plot(wavenumbers[1,], corrected[1,], linewidth=1)\n",
    "ax.set_xlim(wavenumbers[0,0], wavenumbers[0,-1])\n",
    "ax.invert_xaxis()\n",
    "ax.hlines(0, wavenumbers[0,0], wavenumbers[0,-1], color=\"black\", linewidth=0.5)\n",
    "ax.vlines(wavenumbers[1,peaks[1]], 0, np.max(corrected[1])*1.1, color=\"red\", linewidth=0.5)\n",
    "ax.grid()\n",
    "ax.set_xlabel(r\"Raman Shift [$cm^{-1}$]\")\n",
    "ax.set_ylabel(\"Intensity [-]\")\n",
    "plt.tight_layout()"
   ]
  },
  {
   "cell_type": "code",
   "execution_count": 22,
   "id": "moral-designation",
   "metadata": {},
   "outputs": [],
   "source": [
    "files_by_total_area = [file for area, file in sorted(zip(total_areas, files))]\n",
    "files_by_avg_area = [file for area, file in sorted(zip(avg_area, files))]\n",
    "files_by_median_height = [file for height, file in sorted(zip(median_height, files))]\n",
    "files_by_avg_height = [file for height, file in sorted(zip(avg_height, files))]\n",
    "files_by_n_peaks = [file for n, file in sorted(zip(n_peaks, files))]\n",
    "\n",
    "total_area_x_n_peaks = [n*area for n, area in zip(n_peaks, total_areas)]\n",
    "files_by_area_x_peaks = [file for score, file in sorted(zip(total_area_x_n_peaks, files))]\n",
    "\n",
    "avg_area_exp_peaks = [area**n for n, area in zip(n_peaks, avg_area)]\n",
    "files_by_area_exp_peaks = [file for score, file in sorted(zip(avg_area_exp_peaks, files))]\n",
    "\n",
    "avg_height_exp_peaks = [height**n for n, height in zip(n_peaks, avg_height)]\n",
    "files_by_height_exp_peaks = [file for score, file in sorted(zip(avg_height_exp_peaks, files))]\n",
    "\n",
    "median_height_exp_peaks = [height**n for n, height in zip(n_peaks, median_height)]\n",
    "files_by_med_height_exp_peaks = [file for score, file in sorted(zip(median_height_exp_peaks, files))]"
   ]
  },
  {
   "cell_type": "code",
   "execution_count": 23,
   "id": "supreme-display",
   "metadata": {},
   "outputs": [
    {
     "data": {
      "text/plain": [
       "['EXTRACT_9.TXT',\n",
       " 'EXTRACT_10.TXT',\n",
       " 'EXTRACT_12.TXT',\n",
       " 'EXTRACT_14.TXT',\n",
       " 'EXTRACT_11.TXT',\n",
       " 'EXTRACT_13.TXT',\n",
       " 'EXTRACT_2.TXT',\n",
       " 'EXTRACT_7.TXT',\n",
       " 'EXTRACT_15.TXT',\n",
       " 'EXTRACT_8.TXT',\n",
       " 'EXTRACT_16.TXT',\n",
       " 'EXTRACT_3.TXT',\n",
       " 'EXTRACT_5.TXT',\n",
       " 'EXTRACT_4.TXT',\n",
       " 'EXTRACT_17.TXT',\n",
       " 'EXTRACT_18.TXT',\n",
       " 'EXTRACT_0.TXT',\n",
       " 'EXTRACT_19.TXT',\n",
       " 'EXTRACT_6.TXT',\n",
       " 'EXTRACT_1.TXT']"
      ]
     },
     "execution_count": 23,
     "metadata": {},
     "output_type": "execute_result"
    }
   ],
   "source": [
    "files_by_total_area"
   ]
  },
  {
   "cell_type": "code",
   "execution_count": 24,
   "id": "ecological-stuff",
   "metadata": {},
   "outputs": [
    {
     "data": {
      "text/plain": [
       "['EXTRACT_9.TXT',\n",
       " 'EXTRACT_10.TXT',\n",
       " 'EXTRACT_12.TXT',\n",
       " 'EXTRACT_14.TXT',\n",
       " 'EXTRACT_13.TXT',\n",
       " 'EXTRACT_11.TXT',\n",
       " 'EXTRACT_2.TXT',\n",
       " 'EXTRACT_15.TXT',\n",
       " 'EXTRACT_7.TXT',\n",
       " 'EXTRACT_8.TXT',\n",
       " 'EXTRACT_16.TXT',\n",
       " 'EXTRACT_3.TXT',\n",
       " 'EXTRACT_5.TXT',\n",
       " 'EXTRACT_4.TXT',\n",
       " 'EXTRACT_17.TXT',\n",
       " 'EXTRACT_18.TXT',\n",
       " 'EXTRACT_19.TXT',\n",
       " 'EXTRACT_6.TXT',\n",
       " 'EXTRACT_0.TXT',\n",
       " 'EXTRACT_1.TXT']"
      ]
     },
     "execution_count": 24,
     "metadata": {},
     "output_type": "execute_result"
    }
   ],
   "source": [
    "files_by_avg_area"
   ]
  },
  {
   "cell_type": "code",
   "execution_count": 25,
   "id": "joined-interface",
   "metadata": {},
   "outputs": [
    {
     "data": {
      "text/plain": [
       "['EXTRACT_9.TXT',\n",
       " 'EXTRACT_10.TXT',\n",
       " 'EXTRACT_12.TXT',\n",
       " 'EXTRACT_2.TXT',\n",
       " 'EXTRACT_13.TXT',\n",
       " 'EXTRACT_14.TXT',\n",
       " 'EXTRACT_7.TXT',\n",
       " 'EXTRACT_15.TXT',\n",
       " 'EXTRACT_11.TXT',\n",
       " 'EXTRACT_16.TXT',\n",
       " 'EXTRACT_8.TXT',\n",
       " 'EXTRACT_3.TXT',\n",
       " 'EXTRACT_5.TXT',\n",
       " 'EXTRACT_4.TXT',\n",
       " 'EXTRACT_17.TXT',\n",
       " 'EXTRACT_0.TXT',\n",
       " 'EXTRACT_19.TXT',\n",
       " 'EXTRACT_6.TXT',\n",
       " 'EXTRACT_18.TXT',\n",
       " 'EXTRACT_1.TXT']"
      ]
     },
     "execution_count": 25,
     "metadata": {},
     "output_type": "execute_result"
    }
   ],
   "source": [
    "files_by_median_height"
   ]
  },
  {
   "cell_type": "code",
   "execution_count": 26,
   "id": "final-flash",
   "metadata": {},
   "outputs": [
    {
     "data": {
      "text/plain": [
       "['EXTRACT_9.TXT',\n",
       " 'EXTRACT_10.TXT',\n",
       " 'EXTRACT_12.TXT',\n",
       " 'EXTRACT_14.TXT',\n",
       " 'EXTRACT_13.TXT',\n",
       " 'EXTRACT_11.TXT',\n",
       " 'EXTRACT_2.TXT',\n",
       " 'EXTRACT_15.TXT',\n",
       " 'EXTRACT_7.TXT',\n",
       " 'EXTRACT_3.TXT',\n",
       " 'EXTRACT_16.TXT',\n",
       " 'EXTRACT_8.TXT',\n",
       " 'EXTRACT_5.TXT',\n",
       " 'EXTRACT_4.TXT',\n",
       " 'EXTRACT_17.TXT',\n",
       " 'EXTRACT_18.TXT',\n",
       " 'EXTRACT_19.TXT',\n",
       " 'EXTRACT_0.TXT',\n",
       " 'EXTRACT_6.TXT',\n",
       " 'EXTRACT_1.TXT']"
      ]
     },
     "execution_count": 26,
     "metadata": {},
     "output_type": "execute_result"
    }
   ],
   "source": [
    "files_by_avg_height"
   ]
  },
  {
   "cell_type": "code",
   "execution_count": 27,
   "id": "asian-organization",
   "metadata": {},
   "outputs": [
    {
     "data": {
      "text/plain": [
       "['EXTRACT_17.TXT',\n",
       " 'EXTRACT_18.TXT',\n",
       " 'EXTRACT_7.TXT',\n",
       " 'EXTRACT_1.TXT',\n",
       " 'EXTRACT_0.TXT',\n",
       " 'EXTRACT_11.TXT',\n",
       " 'EXTRACT_3.TXT',\n",
       " 'EXTRACT_2.TXT',\n",
       " 'EXTRACT_13.TXT',\n",
       " 'EXTRACT_15.TXT',\n",
       " 'EXTRACT_19.TXT',\n",
       " 'EXTRACT_6.TXT',\n",
       " 'EXTRACT_14.TXT',\n",
       " 'EXTRACT_4.TXT',\n",
       " 'EXTRACT_5.TXT',\n",
       " 'EXTRACT_10.TXT',\n",
       " 'EXTRACT_16.TXT',\n",
       " 'EXTRACT_8.TXT',\n",
       " 'EXTRACT_9.TXT',\n",
       " 'EXTRACT_12.TXT']"
      ]
     },
     "execution_count": 27,
     "metadata": {},
     "output_type": "execute_result"
    }
   ],
   "source": [
    "files_by_n_peaks"
   ]
  },
  {
   "cell_type": "code",
   "execution_count": 28,
   "id": "recreational-driving",
   "metadata": {},
   "outputs": [
    {
     "data": {
      "text/plain": [
       "['EXTRACT_9.TXT',\n",
       " 'EXTRACT_10.TXT',\n",
       " 'EXTRACT_12.TXT',\n",
       " 'EXTRACT_14.TXT',\n",
       " 'EXTRACT_11.TXT',\n",
       " 'EXTRACT_7.TXT',\n",
       " 'EXTRACT_13.TXT',\n",
       " 'EXTRACT_2.TXT',\n",
       " 'EXTRACT_15.TXT',\n",
       " 'EXTRACT_3.TXT',\n",
       " 'EXTRACT_8.TXT',\n",
       " 'EXTRACT_16.TXT',\n",
       " 'EXTRACT_17.TXT',\n",
       " 'EXTRACT_5.TXT',\n",
       " 'EXTRACT_4.TXT',\n",
       " 'EXTRACT_18.TXT',\n",
       " 'EXTRACT_0.TXT',\n",
       " 'EXTRACT_19.TXT',\n",
       " 'EXTRACT_6.TXT',\n",
       " 'EXTRACT_1.TXT']"
      ]
     },
     "execution_count": 28,
     "metadata": {},
     "output_type": "execute_result"
    }
   ],
   "source": [
    "files_by_area_x_peaks"
   ]
  },
  {
   "cell_type": "code",
   "execution_count": 29,
   "id": "exterior-sheep",
   "metadata": {},
   "outputs": [
    {
     "data": {
      "text/plain": [
       "['EXTRACT_17.TXT',\n",
       " 'EXTRACT_7.TXT',\n",
       " 'EXTRACT_11.TXT',\n",
       " 'EXTRACT_10.TXT',\n",
       " 'EXTRACT_2.TXT',\n",
       " 'EXTRACT_14.TXT',\n",
       " 'EXTRACT_13.TXT',\n",
       " 'EXTRACT_15.TXT',\n",
       " 'EXTRACT_9.TXT',\n",
       " 'EXTRACT_3.TXT',\n",
       " 'EXTRACT_18.TXT',\n",
       " 'EXTRACT_0.TXT',\n",
       " 'EXTRACT_5.TXT',\n",
       " 'EXTRACT_12.TXT',\n",
       " 'EXTRACT_4.TXT',\n",
       " 'EXTRACT_1.TXT',\n",
       " 'EXTRACT_16.TXT',\n",
       " 'EXTRACT_8.TXT',\n",
       " 'EXTRACT_19.TXT',\n",
       " 'EXTRACT_6.TXT']"
      ]
     },
     "execution_count": 29,
     "metadata": {},
     "output_type": "execute_result"
    }
   ],
   "source": [
    "files_by_area_exp_peaks"
   ]
  },
  {
   "cell_type": "code",
   "execution_count": 30,
   "id": "uniform-pizza",
   "metadata": {},
   "outputs": [
    {
     "data": {
      "text/plain": [
       "['EXTRACT_17.TXT',\n",
       " 'EXTRACT_10.TXT',\n",
       " 'EXTRACT_11.TXT',\n",
       " 'EXTRACT_7.TXT',\n",
       " 'EXTRACT_9.TXT',\n",
       " 'EXTRACT_14.TXT',\n",
       " 'EXTRACT_13.TXT',\n",
       " 'EXTRACT_2.TXT',\n",
       " 'EXTRACT_15.TXT',\n",
       " 'EXTRACT_3.TXT',\n",
       " 'EXTRACT_18.TXT',\n",
       " 'EXTRACT_12.TXT',\n",
       " 'EXTRACT_4.TXT',\n",
       " 'EXTRACT_16.TXT',\n",
       " 'EXTRACT_0.TXT',\n",
       " 'EXTRACT_5.TXT',\n",
       " 'EXTRACT_8.TXT',\n",
       " 'EXTRACT_19.TXT',\n",
       " 'EXTRACT_1.TXT',\n",
       " 'EXTRACT_6.TXT']"
      ]
     },
     "execution_count": 30,
     "metadata": {},
     "output_type": "execute_result"
    }
   ],
   "source": [
    "files_by_height_exp_peaks"
   ]
  },
  {
   "cell_type": "code",
   "execution_count": 31,
   "id": "framed-current",
   "metadata": {},
   "outputs": [
    {
     "data": {
      "text/plain": [
       "['EXTRACT_7.TXT',\n",
       " 'EXTRACT_17.TXT',\n",
       " 'EXTRACT_2.TXT',\n",
       " 'EXTRACT_9.TXT',\n",
       " 'EXTRACT_13.TXT',\n",
       " 'EXTRACT_10.TXT',\n",
       " 'EXTRACT_14.TXT',\n",
       " 'EXTRACT_11.TXT',\n",
       " 'EXTRACT_15.TXT',\n",
       " 'EXTRACT_3.TXT',\n",
       " 'EXTRACT_12.TXT',\n",
       " 'EXTRACT_18.TXT',\n",
       " 'EXTRACT_0.TXT',\n",
       " 'EXTRACT_16.TXT',\n",
       " 'EXTRACT_5.TXT',\n",
       " 'EXTRACT_4.TXT',\n",
       " 'EXTRACT_8.TXT',\n",
       " 'EXTRACT_19.TXT',\n",
       " 'EXTRACT_6.TXT',\n",
       " 'EXTRACT_1.TXT']"
      ]
     },
     "execution_count": 31,
     "metadata": {},
     "output_type": "execute_result"
    }
   ],
   "source": [
    "files_by_med_height_exp_peaks"
   ]
  },
  {
   "cell_type": "code",
   "execution_count": 6,
   "id": "brief-trigger",
   "metadata": {},
   "outputs": [
    {
     "name": "stdout",
     "output_type": "stream",
     "text": [
      "Object `plt.axes.Axes.tick_params` not found.\n"
     ]
    }
   ],
   "source": [
    "?"
   ]
  },
  {
   "cell_type": "code",
   "execution_count": 5,
   "id": "beautiful-dressing",
   "metadata": {},
   "outputs": [
    {
     "data": {
      "image/png": "[encoded data removed]",
      "text/plain": [
       "<Figure size 432x288 with 1 Axes>"
      ]
     },
     "metadata": {
      "needs_background": "light"
     },
     "output_type": "display_data"
    }
   ],
   "source": [
    "fig, ax = plt.subplots()\n",
    "ax.set_yl"
   ]
  },
  {
   "cell_type": "code",
   "execution_count": 30,
   "id": "greenhouse-incidence",
   "metadata": {},
   "outputs": [
    {
     "data": {
      "text/plain": [
       "[]"
      ]
     },
     "execution_count": 30,
     "metadata": {},
     "output_type": "execute_result"
    }
   ],
   "source": [
    "[npeaks for scores, npeaks in sorted(zip([],[]))]"
   ]
  },
  {
   "cell_type": "code",
   "execution_count": 13,
   "id": "piano-capitol",
   "metadata": {},
   "outputs": [
    {
     "data": {
      "text/plain": [
       "array([[ 280. ,  280.5,  281. , ..., 1739. , 1739.5, 1740. ],\n",
       "       [ 280. ,  280.5,  281. , ..., 1739. , 1739.5, 1740. ],\n",
       "       [ 280. ,  280.5,  281. , ..., 1739. , 1739.5, 1740. ],\n",
       "       ...,\n",
       "       [ 280. ,  280.5,  281. , ..., 1739. , 1739.5, 1740. ],\n",
       "       [ 280. ,  280.5,  281. , ..., 1739. , 1739.5, 1740. ],\n",
       "       [ 280. ,  280.5,  281. , ..., 1739. , 1739.5, 1740. ]])"
      ]
     },
     "execution_count": 13,
     "metadata": {},
     "output_type": "execute_result"
    }
   ],
   "source": [
    "wavenumbers"
   ]
  },
  {
   "cell_type": "code",
   "execution_count": null,
   "id": "skilled-motion",
   "metadata": {},
   "outputs": [],
   "source": []
  }
 ],
 "metadata": {
  "kernelspec": {
   "display_name": "Python 3",
   "language": "python",
   "name": "python3"
  },
  "language_info": {
   "codemirror_mode": {
    "name": "ipython",
    "version": 3
   },
   "file_extension": ".py",
   "mimetype": "text/x-python",
   "name": "python",
   "nbconvert_exporter": "python",
   "pygments_lexer": "ipython3",
   "version": "3.8.5"
  }
 },
 "nbformat": 4,
 "nbformat_minor": 5
}
